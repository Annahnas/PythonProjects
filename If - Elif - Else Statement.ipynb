{
 "cells": [
  {
   "cell_type": "markdown",
   "id": "df5eefe7",
   "metadata": {},
   "source": [
    "# If - Elif - Else Statement"
   ]
  },
  {
   "cell_type": "code",
   "execution_count": 1,
   "id": "ab5617e8",
   "metadata": {},
   "outputs": [
    {
     "name": "stdout",
     "output_type": "stream",
     "text": [
      "It worked\n"
     ]
    }
   ],
   "source": [
    "if 25 > 10 : \n",
    "    print('It worked')"
   ]
  },
  {
   "cell_type": "code",
   "execution_count": 4,
   "id": "824ea34a",
   "metadata": {},
   "outputs": [
    {
     "name": "stdout",
     "output_type": "stream",
     "text": [
      "It did not work..\n"
     ]
    }
   ],
   "source": [
    "if 25 < 10 : \n",
    "    print('It worked')\n",
    "else:\n",
    "    print('It did not work..')"
   ]
  },
  {
   "cell_type": "code",
   "execution_count": 8,
   "id": "0c70ec0e",
   "metadata": {},
   "outputs": [
    {
     "name": "stdout",
     "output_type": "stream",
     "text": [
      "It did not work..\n"
     ]
    }
   ],
   "source": [
    "if 25 < 10 : \n",
    "    print('It worked')\n",
    "elif 25 < 21:\n",
    "    print('elif worked')\n",
    "else:\n",
    "    print('It did not work..')"
   ]
  },
  {
   "cell_type": "code",
   "execution_count": 9,
   "id": "04d64bc5",
   "metadata": {},
   "outputs": [
    {
     "name": "stdout",
     "output_type": "stream",
     "text": [
      "It worked\n"
     ]
    }
   ],
   "source": [
    "if 25 < 10 or (1<3): \n",
    "    print('It worked')\n",
    "elif 25 < 21:\n",
    "    print('elif worked')\n",
    "else:\n",
    "    print('It did not work..')"
   ]
  },
  {
   "cell_type": "code",
   "execution_count": 10,
   "id": "c80225cf",
   "metadata": {},
   "outputs": [
    {
     "name": "stdout",
     "output_type": "stream",
     "text": [
      "It did not work..\n"
     ]
    }
   ],
   "source": [
    "print ('it worrked') if 10>30 else print('It did not work..') "
   ]
  },
  {
   "cell_type": "code",
   "execution_count": null,
   "id": "20c069cc",
   "metadata": {},
   "outputs": [],
   "source": []
  }
 ],
 "metadata": {
  "kernelspec": {
   "display_name": "Python 3 (ipykernel)",
   "language": "python",
   "name": "python3"
  },
  "language_info": {
   "codemirror_mode": {
    "name": "ipython",
    "version": 3
   },
   "file_extension": ".py",
   "mimetype": "text/x-python",
   "name": "python",
   "nbconvert_exporter": "python",
   "pygments_lexer": "ipython3",
   "version": "3.11.4"
  }
 },
 "nbformat": 4,
 "nbformat_minor": 5
}
